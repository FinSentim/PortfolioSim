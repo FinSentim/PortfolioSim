{
 "cells": [
  {
   "cell_type": "code",
   "execution_count": 7,
   "metadata": {},
   "outputs": [],
   "source": [
    "import requests\n",
    "import pandas as pd\n",
    "\n",
    "from portfolio_sim import utils\n",
    "from portfolio_sim.portfolio_simulator import PortfolioSimulator\n",
    "from portfolio_sim.strategies.single_strategies import MinMaxSentimentStrategy"
   ]
  },
  {
   "cell_type": "code",
   "execution_count": 10,
   "metadata": {},
   "outputs": [],
   "source": [
    "url = \"https://api.finsentim.com/latest/companies/table/?key=jhcfkw0dfqe0gh8zw2eaun82yxggpevd%20\"\n",
    "comp_table = requests.get(url)\n",
    "comp_table = pd.read_json(comp_table.json()).name\n",
    "\n",
    "# Load Index Data\n",
    "index_data = utils.FinsentimAPI().load_index_data(\"2022-08-01\", \"2022-08-12\")\n",
    "index_data = index_data.drop(columns=[\"MOOD\", \"BUZZ\"])\n",
    "\n",
    "apple = comp_table.loc[[1]]\n",
    "company_data_dict = utils.FinsentimAPI().simulate_stock(apple, \"2022-08-01\", \"2022-08-12\")"
   ]
  },
  {
   "cell_type": "code",
   "execution_count": 14,
   "metadata": {},
   "outputs": [
    {
     "name": "stdout",
     "output_type": "stream",
     "text": [
      "               FADTX  NASDAQ Composite (^IXIC)  S&P 500 (^GSPC)  \\\n",
      "2022-08-01  1.000000                  1.000000         1.000000   \n",
      "2022-08-02  0.998404                  0.998367         0.993338   \n",
      "2022-08-03  1.031113                  1.024190         1.008872   \n",
      "2022-08-04  1.033107                  1.028426         1.008088   \n",
      "2022-08-05  1.032177                  1.023324         1.006449   \n",
      "2022-08-08  1.026060                  1.022273         1.005203   \n",
      "2022-08-09  1.007047                  1.010098         1.000932   \n",
      "2022-08-10  1.043611                  1.039276         1.022243   \n",
      "2022-08-11  1.035634                  1.033220         1.021522   \n",
      "2022-08-12  1.060098                  1.054831         1.039217   \n",
      "\n",
      "            MinMaxSentiment  \n",
      "2022-08-01          1.00000  \n",
      "2022-08-02          1.00319  \n",
      "2022-08-03          0.99554  \n",
      "2022-08-04          0.99436  \n",
      "2022-08-05          0.99510  \n",
      "2022-08-08          0.99769  \n",
      "2022-08-09          0.99571  \n",
      "2022-08-10          0.98885  \n",
      "2022-08-11          0.99099  \n",
      "2022-08-12          0.98610  \n"
     ]
    }
   ],
   "source": [
    "# Simulate Portfolio\n",
    "ps = PortfolioSimulator(\n",
    "    company_data_dict,\n",
    "    apple,\n",
    "    MinMaxSentimentStrategy(),\n",
    "    index_data,\n",
    ")\n",
    "ps.simulate_portfolio()\n",
    "print(ps.compare_baselines())"
   ]
  }
 ],
 "metadata": {
  "kernelspec": {
   "display_name": "Python 3",
   "language": "python",
   "name": "python3"
  },
  "language_info": {
   "codemirror_mode": {
    "name": "ipython",
    "version": 3
   },
   "file_extension": ".py",
   "mimetype": "text/x-python",
   "name": "python",
   "nbconvert_exporter": "python",
   "pygments_lexer": "ipython3",
   "version": "3.11.2"
  },
  "orig_nbformat": 4,
  "vscode": {
   "interpreter": {
    "hash": "949777d72b0d2535278d3dc13498b2535136f6dfe0678499012e853ee9abcab1"
   }
  }
 },
 "nbformat": 4,
 "nbformat_minor": 2
}
